{
 "cells": [
  {
   "cell_type": "code",
   "execution_count": 1,
   "metadata": {},
   "outputs": [],
   "source": [
    "load('boneh_durfee.sage')"
   ]
  },
  {
   "cell_type": "code",
   "execution_count": 2,
   "metadata": {},
   "outputs": [],
   "source": [
    "N3=0xf4c548636db62ffcc7ac4a0797952bea9a65bd426175af2435f72657e67ec8194667bfa94ce23c6f1e5baf3201867ab41701f6b8768e71009c41a3d5e9e7c109455341d549c7611f9f52851a2f017906aa9ccbedb95d238468e2c8577d30ecc4f158e3811fd5e2a6051443d468e3506bbc39bba710e34a604ac9e85d0feef8b3;\n",
    "e3=0x16f4b438ba14e05afa944f7da9904f8c78ea52e4ca0be7fa2b5f84e22ddd7b0578a3477b19b7bb4a7f825acc45da2dd10e62dbd94a3386b97d92ee817b0c66c1507514a7860b9139bc2ac3a4e0fe304199214da00a4ca82bfcb7b18253e7e6144828e584dac2dfb9a03fabaf2376ce7c269923fbb60fc68325b9f6443e1f896f;\n",
    "c3=0x26b1823cf836b226e2f5c90fdcd8420dbfcd02765b26e52ef3e5c0ab494c2f4650e475e280b0b5fff0d5016621186420b09e4706a5866e4a3319f23ef09d92c4e36acba39a0f6213fbe5ee1a736ce383e6e12351e6cbfd43f10a96b7fe34bdbaf948f2fb075d9063723c9f747fe6247ae9209e5d417faf2e37e6fee2eb863556;"
   ]
  },
  {
   "cell_type": "code",
   "execution_count": 5,
   "metadata": {},
   "outputs": [
    {
     "name": "stdout",
     "output_type": "stream",
     "text": [
      "=== checking values ===\n",
      "* delta: 0.290000000000000\n",
      "* delta < 0.292 True\n",
      "* size of e: 1020\n",
      "* size of N: 1023\n",
      "* m: 4 , t: 1\n"
     ]
    }
   ],
   "source": [
    "R.<x,y> = PolynomialRing(ZZ)\n",
    "A = int((N3+1)/2)\n",
    "f =x*(A+y)+1\n",
    "\n",
    "delta = .29\n",
    "\n",
    "m = 4# size of the lattice (bigger the better/slower)\n",
    "\n",
    "# you need to be a lattice master to tweak these\n",
    "\n",
    "t = int((1-2*delta) * m)  # optimization from Herrmann and May\n",
    "\n",
    "# X = floor(e3^delta)  # this _might_ be too much\n",
    "# Y = floor(e3^(1/2))\n",
    "\n",
    "X = 2*floor(N3^delta)  # this _might_ be too much\n",
    "Y = floor(N3^(1/2))\n",
    "\n",
    "\n",
    "print(\"=== checking values ===\")\n",
    "print(\"* delta:\", delta)\n",
    "print(\"* delta < 0.292\", delta < 0.292)\n",
    "print(\"* size of e:\", int(log(e3)/log(2)))\n",
    "print(\"* size of N:\", int(log(N3)/log(2)))\n",
    "print(\"* m:\", m, \", t:\", t)"
   ]
  },
  {
   "cell_type": "code",
   "execution_count": 6,
   "metadata": {},
   "outputs": [
    {
     "name": "stdout",
     "output_type": "stream",
     "text": [
      "* removing unhelpful vectors 4 and 5\n",
      "* removing unhelpful vector 3\n",
      "* removing unhelpful vectors 1 and 2\n",
      "* removing unhelpful vector 0\n",
      "5 / 10  vectors are not helpful\n",
      "We do not have det < bound. Solutions might not be found.\n",
      "Try with highers m and t.\n",
      "size det(L) - size e^(m*n) =  1066\n",
      "00 X 0 0 0 0 0 0 0 0 0 ~\n",
      "01 X X 0 0 0 0 0 0 0 0 ~\n",
      "02 X X X 0 0 0 0 0 0 0 \n",
      "03 X X X X 0 0 0 0 0 0 \n",
      "04 0 0 0 0 X 0 0 0 0 0 ~\n",
      "05 0 0 0 0 X X 0 0 0 0 ~\n",
      "06 0 0 0 0 X X X 0 0 0 ~\n",
      "07 0 0 0 0 X X X X 0 0 \n",
      "08 0 0 0 0 X X X X X 0 \n",
      "09 X X X X 0 X X X X X \n",
      "optimizing basis of the lattice via LLL, this can take a long time\n",
      "LLL is done!\n",
      "looking for independent vectors in the lattice\n",
      "found them, using vectors 0 and 1\n",
      "Your prediction (delta) is too small\n",
      "=== no solution was found ===\n"
     ]
    }
   ],
   "source": [
    "solx, soly = boneh_durfee(f, e3, m, t, X, Y)\n",
    "\n",
    "# found a solution?\n",
    "if soly != 0:\n",
    "    print(\"=== solution found ===\")\n",
    "    if False:\n",
    "        print(\"x:\", solx)\n",
    "        print(\"y:\", soly)\n",
    "\n",
    "    d = int(f(solx, soly) / e3)\n",
    "    print(\"private key found:\", d)\n",
    "else:\n",
    "    print(\"=== no solution was found ===\")"
   ]
  },
  {
   "cell_type": "code",
   "execution_count": 28,
   "metadata": {},
   "outputs": [
    {
     "name": "stdout",
     "output_type": "stream",
     "text": [
      "* size of d: 297\n"
     ]
    }
   ],
   "source": [
    "print(\"* size of d:\", int(log(-d)/log(2)))"
   ]
  },
  {
   "cell_type": "code",
   "execution_count": 2,
   "metadata": {},
   "outputs": [
    {
     "data": {
      "text/plain": [
       "10"
      ]
     },
     "execution_count": 2,
     "metadata": {},
     "output_type": "execute_result"
    }
   ],
   "source": [
    "N3//e3"
   ]
  },
  {
   "cell_type": "code",
   "execution_count": null,
   "metadata": {},
   "outputs": [],
   "source": []
  }
 ],
 "metadata": {
  "kernelspec": {
   "display_name": "SageMath 9.3",
   "language": "sage",
   "name": "sagemath"
  },
  "language_info": {
   "codemirror_mode": {
    "name": "ipython",
    "version": 3
   },
   "file_extension": ".py",
   "mimetype": "text/x-python",
   "name": "python",
   "nbconvert_exporter": "python",
   "pygments_lexer": "ipython3",
   "version": "3.7.10"
  }
 },
 "nbformat": 4,
 "nbformat_minor": 4
}
