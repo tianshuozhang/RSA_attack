{
 "cells": [
  {
   "cell_type": "code",
   "execution_count": 1,
   "metadata": {},
   "outputs": [],
   "source": [
    "load('boneh_durfee.sage')"
   ]
  },
  {
   "cell_type": "code",
   "execution_count": 2,
   "metadata": {},
   "outputs": [],
   "source": [
    "N2=0xd231f2c194d3971821984dec9cf1ef58d538975f189045ef8a706f6165aab4929096f61a3eb7dd8021bf3fdc41fe3b3b0e4ecc579b4b5e7e035ffcc383436c9656533949881dca67c26d0e770e4bf62a09718dbabc2b40f2938f16327e347f187485aa48b044432e82f5371c08f6e0bbde46c713859aec715e2a2ca66574f3eb;\n",
    "e2=0x5b5961921a49e3089262761e89629ab6dff2da1504a0e5eba1bb7b20d63c785a013fd6d9e021c01baf1b23830954d488041b92bca2fe2c92e3373dedd7e625da11275f6f18ee4aef336d0637505545f70f805902ddbacb21bb8276d34a0f6dfe37ede87dd95bb1494dbb5763639ba3984240f1178e32aa36ee3c5fcc8115dde5;\n",
    "c2=0x6a88a8fa2b8f28d96284298bab2061efeb35e3a086370e19523c15c429f5d783b9d4f32e31a402916f45ad4f2760ab30e77177335af44756bfbeef0f168b5e0dc8c3ddf75d141c358969cca0e7c2b8ab99ef8e33b031be1cbccd95b687682ac7b0dcc0d56f5651ee671d6358128d2e0801f247a6af4fe0dc5e8fb199eba0780f;"
   ]
  },
  {
   "cell_type": "code",
   "execution_count": 9,
   "metadata": {},
   "outputs": [
    {
     "name": "stdout",
     "output_type": "stream",
     "text": [
      "=== checking values ===\n",
      "* delta: 0.280000000000000\n",
      "* delta < 0.292 True\n",
      "* size of e: 1023\n",
      "* size of N: 1024\n",
      "* m: 5 , t: 2\n"
     ]
    }
   ],
   "source": [
    "R.<x,y> = PolynomialRing(ZZ)\n",
    "A = int((N2+1)/2)\n",
    "f =x*(A+y)+1\n",
    "\n",
    "delta = .28\n",
    "\n",
    "m = 5# size of the lattice (bigger the better/slower)\n",
    "\n",
    "# you need to be a lattice master to tweak these\n",
    "\n",
    "t = int((1-2*delta) * m)  # optimization from Herrmann and May\n",
    "\n",
    "X = floor(e2^delta)  # this _might_ be too much\n",
    "Y = floor(e2^(1/2))\n",
    "\n",
    "# X = 2*floor(N2^delta)  # this _might_ be too much\n",
    "# Y = floor(N2^(1/2))\n",
    "\n",
    "print(\"=== checking values ===\")\n",
    "print(\"* delta:\", delta)\n",
    "print(\"* delta < 0.292\", delta < 0.292)\n",
    "print(\"* size of e:\", ceil(log(e2)/log(2)))\n",
    "print(\"* size of N:\", ceil(log(N2)/log(2)))\n",
    "print(\"* m:\", m, \", t:\", t)"
   ]
  },
  {
   "cell_type": "code",
   "execution_count": 10,
   "metadata": {},
   "outputs": [
    {
     "name": "stdout",
     "output_type": "stream",
     "text": [
      "* removing unhelpful vector 25\n",
      "* removing unhelpful vector 21\n",
      "* removing unhelpful vectors 1 and 2\n",
      "* removing unhelpful vector 0\n",
      "10 / 22  vectors are not helpful\n",
      "We do not have det < bound. Solutions might not be found.\n",
      "Try with highers m and t.\n",
      "size det(L) - size e^(m*n) =  818\n",
      "00 X 0 0 0 0 0 0 0 0 0 0 0 0 0 0 0 0 0 0 0 0 0 ~\n",
      "01 X X 0 0 0 0 0 0 0 0 0 0 0 0 0 0 0 0 0 0 0 0 ~\n",
      "02 X X X 0 0 0 0 0 0 0 0 0 0 0 0 0 0 0 0 0 0 0 \n",
      "03 0 0 0 X 0 0 0 0 0 0 0 0 0 0 0 0 0 0 0 0 0 0 ~\n",
      "04 0 0 0 X X 0 0 0 0 0 0 0 0 0 0 0 0 0 0 0 0 0 ~\n",
      "05 0 0 0 X X X 0 0 0 0 0 0 0 0 0 0 0 0 0 0 0 0 \n",
      "06 0 0 0 X X X X 0 0 0 0 0 0 0 0 0 0 0 0 0 0 0 \n",
      "07 0 0 0 0 0 0 0 X 0 0 0 0 0 0 0 0 0 0 0 0 0 0 ~\n",
      "08 0 0 0 0 0 0 0 X X 0 0 0 0 0 0 0 0 0 0 0 0 0 ~\n",
      "09 0 0 0 0 0 0 0 X X X 0 0 0 0 0 0 0 0 0 0 0 0 ~\n",
      "10 0 0 0 0 0 0 0 X X X X 0 0 0 0 0 0 0 0 0 0 0 \n",
      "11 0 0 0 0 0 0 0 X X X X X 0 0 0 0 0 0 0 0 0 0 \n",
      "12 0 0 0 0 0 0 0 0 0 0 0 0 X 0 0 0 0 0 0 0 0 0 ~\n",
      "13 0 0 0 0 0 0 0 0 0 0 0 0 X X 0 0 0 0 0 0 0 0 ~\n",
      "14 0 0 0 0 0 0 0 0 0 0 0 0 X X X 0 0 0 0 0 0 0 ~\n",
      "15 0 0 0 0 0 0 0 0 0 0 0 0 X X X X 0 0 0 0 0 0 \n",
      "16 0 0 0 0 0 0 0 0 0 0 0 0 X X X X X 0 0 0 0 0 \n",
      "17 0 0 0 0 0 0 0 0 0 0 0 0 X X X X X X 0 0 0 0 \n",
      "18 X X X 0 X X X 0 0 0 0 0 0 0 0 0 0 0 X 0 0 0 \n",
      "19 0 0 0 X X X X 0 X X X X 0 0 0 0 0 0 0 X 0 0 \n",
      "20 0 0 0 0 0 0 0 X X X X X 0 X X X X X 0 0 X 0 \n",
      "21 0 0 0 X X X X 0 X X X X 0 0 X X X X 0 X X X \n",
      "optimizing basis of the lattice via LLL, this can take a long time\n",
      "LLL is done!\n",
      "looking for independent vectors in the lattice\n",
      "found them, using vectors 0 and 1\n",
      "Your prediction (delta) is too small\n",
      "=== no solution was found ===\n"
     ]
    }
   ],
   "source": [
    "solx, soly = boneh_durfee(f, e2, m, t, X, Y)\n",
    "\n",
    "# found a solution?\n",
    "if soly != 0 :\n",
    "    print(\"=== solution found ===\")\n",
    "    if False:\n",
    "        print(\"x:\", solx)\n",
    "        print(\"y:\", soly)\n",
    "\n",
    "    d = f(solx, soly) / e2\n",
    "    print(\"private key found:\", d)\n",
    "else:\n",
    "    print(\"=== no solution was found ===\")"
   ]
  },
  {
   "cell_type": "code",
   "execution_count": 101,
   "metadata": {},
   "outputs": [
    {
     "name": "stdout",
     "output_type": "stream",
     "text": [
      "* size of d: 281\n"
     ]
    }
   ],
   "source": [
    "print(\"* size of d:\", int(log(-d)/log(2)))"
   ]
  }
 ],
 "metadata": {
  "kernelspec": {
   "display_name": "SageMath 9.3",
   "language": "sage",
   "name": "sagemath"
  },
  "language_info": {
   "codemirror_mode": {
    "name": "ipython",
    "version": 3
   },
   "file_extension": ".py",
   "mimetype": "text/x-python",
   "name": "python",
   "nbconvert_exporter": "python",
   "pygments_lexer": "ipython3",
   "version": "3.7.10"
  }
 },
 "nbformat": 4,
 "nbformat_minor": 4
}
