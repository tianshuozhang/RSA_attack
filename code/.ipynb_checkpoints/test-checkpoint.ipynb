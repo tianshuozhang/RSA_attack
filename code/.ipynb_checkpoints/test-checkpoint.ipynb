{
 "cells": [
  {
   "cell_type": "code",
   "execution_count": 4,
   "metadata": {
    "scrolled": true
   },
   "outputs": [],
   "source": [
    "load('coppersmith.sage')"
   ]
  },
  {
   "cell_type": "code",
   "execution_count": 3,
   "metadata": {},
   "outputs": [
    {
     "name": "stdout",
     "output_type": "stream",
     "text": [
      "17917957937422433684459538244547554224973163977877196279199912807710334969441287563047019946172856926208*x*y + 17868334808236434411258481145665761821207486830385635113380454130653435850242744570028336294681835489047*x + 8332658161814849614887602025746179242568546805056370010338011123659378033989406213324265356151615113095*y + 94232122496252485889809444295727154818983087434444549889198639831834172086967769608947275522724801519072877557086069137744839475303810987857008696662445576392799816194606757937815514673657243287145812283598342502018708066739382946231644941952129136618839740994980569271737995243801695079769542342574877440222\n",
      "满足条件\n",
      "519356819626950086144333839328868727587690970541143 565140080529375230697116135039187248734017137183870\n",
      "519356819626950086144333839328868727587690970541143 565140080529375230697116135039187248734017137183870\n",
      "0\n"
     ]
    }
   ],
   "source": [
    "# 使用 PolynomialRing 定义多项式环，并指定变量名\n",
    "# N = 0x781e760887ad042c97ff8991da8a46e1fea82c0ab1800f8a3a3432f742ef768803d6e3d4b58ef5b8efcf26df95c57ffece3750f5614364a16128882c7ab2aad7904a4c207c1747939fbc507a3415598d08e025f687f2ebbc548686cf9bf32a912fa194ebbab5af41a4209132a87f226318e6b9eb9be64b374f57f146118ed185\n",
    "# p = 0x9dc9138c9acf35c15f3ea8298c35ab0f8d5706b5c6b9f7086944e2d08249459ad0084c41fce59c4a69edc02d63982a4aa21f6bf2a7f410c7a42a48cd0ad02847\n",
    "# q = 0xc2e3474251ce262bb613411fe3aa69816efc6aa3859c1e9eefb5c79078aa8109817f5aabc8f8b2425559623a066c2cc06edcb29c981e2b892ac2d3e7b183e9d3\n",
    "\n",
    "p = random_prime(2^512)\n",
    "q = random_prime(2^512)\n",
    "N = p*q\n",
    "\n",
    "# 计算 N 的位数，并整除以 4\n",
    "last_n_4th = int(len(hex(N)[2:])*1.34)\n",
    "# R.<x,y> = PolynomialRing(Integers(N))\n",
    "R.<x,y> = PolynomialRing(ZZ)\n",
    "\n",
    "\n",
    "r = 2^last_n_4th\n",
    "\n",
    "p0 = p%r\n",
    "\n",
    "q0 = q%r\n",
    "\n",
    "f = (r*x+p0)*(r*y+q0)-N # Use your own polynomial\n",
    "f = f //r\n",
    "\n",
    "# 设置求解参数\n",
    "X = 2**(last_n_4th*2+1)//r  # Use your own value\n",
    "Y = 2**(last_n_4th*2+1)//r  # Use your own value\n",
    "f=f.change_ring(Integers(N))\n",
    "# 然后你可以定义含有两个变量的多项式\n",
    "g = f(x=X*x, y=Y*y)  # 变换\n",
    "coeffs = g.coefficients()  # 获得所有系数\n",
    "max_coeff = max(coeffs)# 找出最大系数\n",
    "print(f)\n",
    "if max_coeff**2>X*Y:\n",
    "    print(\"满足条件\")\n",
    "    re=small_roots(f,bounds=(X,Y),m=1)\n",
    "    for x,y in re:\n",
    "        print(x,y)\n",
    "        print(p//r,q//r)\n",
    "        print(f(x,y))"
   ]
  },
  {
   "cell_type": "code",
   "execution_count": 6,
   "metadata": {},
   "outputs": [
    {
     "name": "stdout",
     "output_type": "stream",
     "text": [
      "Generating primes\n",
      "Bivariate\n",
      "(27967284373712989922214927798256151712234389182844020668722772355025991480405000895424785202, 122361317012989819953549982131692918239752147697633504671546583237348744019099606325295594783)\n",
      "[(27967284373712989922214927798256151712234389182844020668722772355025991480405000895424785202, 122361317012989819953549982131692918239752147697633504671546583237348744019099606325295594783)]\n"
     ]
    }
   ],
   "source": [
    "def bivariate():\n",
    "\tprint('Bivariate')\n",
    "\tbounds = (floor(N^.15), floor(N^.15))\n",
    "\troots = tuple(randrange(bound) for bound in bounds)\n",
    "\tR = Integers(N)\n",
    "\tP.<x, y> = PolynomialRing(R)\n",
    "\tmonomials = [x*y,x,y,1]\n",
    "\tf = sum(randrange(N)*monomial for monomial in monomials)\n",
    "\tf -= f(*roots)\n",
    "\tprint(roots)\n",
    "\tprint(small_roots(f, bounds))\n",
    "\n",
    "def trivariate():\n",
    "\tprint('Trivariate')\n",
    "\tbounds = (floor(N^.12), floor(N^.12), floor(N^.12))\n",
    "\troots = tuple(randrange(bound) for bound in bounds)\n",
    "\tR = Integers(N)\n",
    "\tP.<x, y, z> = PolynomialRing(R)\n",
    "\tmonomials = [x, y, x*y, x*z, y*z]\n",
    "\tf = sum(randrange(N)*monomial for monomial in monomials)\n",
    "\tf -= f(*roots)\n",
    "\tprint(small_roots(f, bounds))\n",
    "\n",
    "\n",
    "def approximate_factor():\n",
    "\tprint('Approximate factor')\n",
    "\tbounds = (floor(N^.05), floor(N^.05))\n",
    "\troots = tuple(randrange(bound) for bound in bounds)\n",
    "\tR = Integers(N)\n",
    "\tP = PolynomialRing(R, len(bounds), 'x')\n",
    "\tf = sum(randrange(2^128)*x for x in P.gens())\n",
    "\tf += p - f(*roots)\n",
    "\tprint(small_roots(f, bounds, m=2, d=4))\n",
    "\n",
    "if __name__ == '__main__':\n",
    "\tprint('Generating primes')\n",
    "# \tp = random_prime(2^1024)\n",
    "# \tq = random_prime(2^1024)\n",
    "# \tN = p*q\n",
    "\tN = 0x781e760887ad042c97ff8991da8a46e1fea82c0ab1800f8a3a3432f742ef768803d6e3d4b58ef5b8efcf26df95c57ffece3750f5614364a16128882c7ab2aad7904a4c207c1747939fbc507a3415598d08e025f687f2ebbc548686cf9bf32a912fa194ebbab5af41a4209132a87f226318e6b9eb9be64b374f57f146118ed185\n",
    "\tbivariate()"
   ]
  },
  {
   "cell_type": "code",
   "execution_count": null,
   "metadata": {},
   "outputs": [],
   "source": []
  },
  {
   "cell_type": "code",
   "execution_count": null,
   "metadata": {},
   "outputs": [],
   "source": []
  }
 ],
 "metadata": {
  "kernelspec": {
   "display_name": "SageMath 9.3",
   "language": "sage",
   "name": "sagemath"
  },
  "language_info": {
   "codemirror_mode": {
    "name": "ipython",
    "version": 3
   },
   "file_extension": ".py",
   "mimetype": "text/x-python",
   "name": "python",
   "nbconvert_exporter": "python",
   "pygments_lexer": "ipython3",
   "version": "3.7.10"
  }
 },
 "nbformat": 4,
 "nbformat_minor": 4
}
