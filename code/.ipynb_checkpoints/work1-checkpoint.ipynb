{
 "cells": [
  {
   "cell_type": "code",
   "execution_count": 1,
   "metadata": {},
   "outputs": [],
   "source": [
    "load('boneh_durfee.sage')"
   ]
  },
  {
   "cell_type": "code",
   "execution_count": 2,
   "metadata": {},
   "outputs": [],
   "source": [
    "N1=0xa4d80845630d3b332f74f667ec8a0e49aba15b6f0c4f4006161d62c91b78cf6811421cc76609d2d9dba2c43be9d8ecdc6a0dff64a8041dcde52c7f92820b0a38fc91419e8ec9a5c69d47edc6e347934b4d87f97c5759886dac6c1143ff55b8eb11acfaa6cc70956a8ec7796e1a063b123bc2e467e30937c5a69c7ab5f8ed17e1;\n",
    "e1=0x3458c2e97adef45f741c7db11ece6c0814aa5b6fad9144242cdaa16a6b4f3622477935f98a41765b92892b4de22a391cf08767447df113f5151c86edd109b97f9b045fd8ad5d7a51084684d4e2353db6c0e474d5d79f399a2bf4fd867ec85b7960845ab5497f705914912f797804c06dcff57139e040596d22b141e54835e0d3;\n",
    "c1=0x91b097a5b1f6b12accdbda15cd2247384e1b3ed8311085a0f3e0dbb5fffce650a355600a02674189d1b7f4075df079c70354a08646e85ecf31dd150220cd1d4ce22d55a946500f4bd8def74fb0acea3e8d2e7bb1d27ebf2ca2e80fc28c3f0d88a041d4a556a18147f66b88c65f19c99b4b94c3f78d468b8accb4da7e7ce31b29;"
   ]
  },
  {
   "cell_type": "code",
   "execution_count": 3,
   "metadata": {},
   "outputs": [
    {
     "name": "stdout",
     "output_type": "stream",
     "text": [
      "=== checking values ===\n",
      "* delta: 0.244200000000000\n",
      "* delta < 0.292 True\n",
      "* size of e: 1021\n",
      "* size of N: 1023\n",
      "* m: 4 , t: 2\n"
     ]
    }
   ],
   "source": [
    "R.<x,y> = PolynomialRing(ZZ)\n",
    "A = int((N1+1)/2)\n",
    "f =x*(A+y)+1\n",
    "\n",
    "delta = .2442\n",
    "\n",
    "\n",
    "m = 4 # size of the lattice (bigger the better/slower)\n",
    "\n",
    "# you need to be a lattice master to tweak these\n",
    "\n",
    "t = int((1-2*delta) * m)  # optimization from Herrmann and May\n",
    "\n",
    "# X = 2*floor(N1^delta)  # this _might_ be too much\n",
    "# Y = floor(N1^(1/2))\n",
    "\n",
    "X = floor(e1^delta)  # this _might_ be too much\n",
    "Y = floor(e1^(1/2))\n",
    "\n",
    "print(\"=== checking values ===\")\n",
    "print(\"* delta:\", delta)\n",
    "print(\"* delta < 0.292\", delta < 0.292)\n",
    "print(\"* size of e:\", int(log(e1)/log(2)))\n",
    "print(\"* size of N:\", int(log(N1)/log(2)))\n",
    "print(\"* m:\", m, \", t:\", t)\n"
   ]
  },
  {
   "cell_type": "code",
   "execution_count": 4,
   "metadata": {},
   "outputs": [
    {
     "name": "stdout",
     "output_type": "stream",
     "text": [
      "* removing unhelpful vector 0\n",
      "6 / 18  vectors are not helpful\n",
      "det(L) < e^(m*n) (good! If a solution exists < N^delta, it will be found)\n",
      "00 X 0 0 0 0 0 0 0 0 0 0 0 0 0 0 0 0 0 ~\n",
      "01 X X 0 0 0 0 0 0 0 0 0 0 0 0 0 0 0 0 \n",
      "02 0 0 X 0 0 0 0 0 0 0 0 0 0 0 0 0 0 0 ~\n",
      "03 0 0 X X 0 0 0 0 0 0 0 0 0 0 0 0 0 0 \n",
      "04 0 0 X X X 0 0 0 0 0 0 0 0 0 0 0 0 0 \n",
      "05 0 0 0 0 0 X 0 0 0 0 0 0 0 0 0 0 0 0 ~\n",
      "06 0 0 0 0 0 X X 0 0 0 0 0 0 0 0 0 0 0 ~\n",
      "07 0 0 0 0 0 X X X 0 0 0 0 0 0 0 0 0 0 \n",
      "08 0 0 0 0 0 X X X X 0 0 0 0 0 0 0 0 0 \n",
      "09 0 0 0 0 0 0 0 0 0 X 0 0 0 0 0 0 0 0 ~\n",
      "10 0 0 0 0 0 0 0 0 0 X X 0 0 0 0 0 0 0 ~\n",
      "11 0 0 0 0 0 0 0 0 0 X X X 0 0 0 0 0 0 \n",
      "12 0 0 0 0 0 0 0 0 0 X X X X 0 0 0 0 0 \n",
      "13 0 0 0 0 0 0 0 0 0 X X X X X 0 0 0 0 \n",
      "14 X X 0 X X 0 0 0 0 0 0 0 0 0 X 0 0 0 \n",
      "15 0 0 X X X 0 X X X 0 0 0 0 0 0 X 0 0 \n",
      "16 0 0 0 0 0 X X X X 0 X X X X 0 0 X 0 \n",
      "17 0 0 X X X 0 X X X 0 0 X X X 0 X X X \n",
      "optimizing basis of the lattice via LLL, this can take a long time\n",
      "LLL is done!\n",
      "looking for independent vectors in the lattice\n",
      "found them, using vectors 0 and 1\n",
      "=== solution found ===\n",
      "private key found: 1118059191747025979407667430202387068489815082618058538672641608386136195643\n"
     ]
    }
   ],
   "source": [
    "solx, soly = boneh_durfee(f, e1, m, t, X, Y)\n",
    "\n",
    "# found a solution?\n",
    "if solx > 0:\n",
    "    print(\"=== solution found ===\")\n",
    "    if False:\n",
    "        print(\"x:\", solx)\n",
    "        print(\"y:\", soly)\n",
    "\n",
    "    d = f(solx, soly) / e1\n",
    "    print(\"private key found:\", d)\n",
    "else:\n",
    "    print(\"=== no solution was found ===\")"
   ]
  },
  {
   "cell_type": "code",
   "execution_count": 5,
   "metadata": {},
   "outputs": [
    {
     "name": "stdout",
     "output_type": "stream",
     "text": [
      "True\n"
     ]
    }
   ],
   "source": [
    "print(d>2^249 and d<2^250)"
   ]
  },
  {
   "cell_type": "code",
   "execution_count": 6,
   "metadata": {},
   "outputs": [
    {
     "name": "stdout",
     "output_type": "stream",
     "text": [
      "* size of d: 249\n"
     ]
    }
   ],
   "source": [
    "print(\"* size of d:\", int(log(d)/log(2)))"
   ]
  }
 ],
 "metadata": {
  "kernelspec": {
   "display_name": "SageMath 9.3",
   "language": "sage",
   "name": "sagemath"
  },
  "language_info": {
   "codemirror_mode": {
    "name": "ipython",
    "version": 3
   },
   "file_extension": ".py",
   "mimetype": "text/x-python",
   "name": "python",
   "nbconvert_exporter": "python",
   "pygments_lexer": "ipython3",
   "version": "3.7.10"
  }
 },
 "nbformat": 4,
 "nbformat_minor": 4
}
