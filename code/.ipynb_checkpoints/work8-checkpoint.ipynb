{
 "cells": [
  {
   "cell_type": "code",
   "execution_count": null,
   "metadata": {},
   "outputs": [],
   "source": [
    "load('coppersmith.sage')"
   ]
  },
  {
   "cell_type": "code",
   "execution_count": null,
   "metadata": {},
   "outputs": [],
   "source": [
    "load('coppersmith_howgrave_univariate.sage')"
   ]
  },
  {
   "cell_type": "code",
   "execution_count": null,
   "metadata": {},
   "outputs": [],
   "source": [
    "import itertools\n",
    "def small_roots(f, bounds,m=1, d=None):\n",
    "    if not d:\n",
    "        d = f.degree()\n",
    "    if isinstance(f, Polynomial):\n",
    "            x, = polygens(f.base_ring(), f.variable_name(), 1)\n",
    "            f = f(x)\n",
    "    R = f.base_ring()\n",
    "    N = R.cardinality()\n",
    "    c = f.coefficients().pop(0)\n",
    "    f *= ~c\n",
    "    f = f.change_ring(ZZ)\n",
    "    G = Sequence([], f.parent())\n",
    "    for i in range(m + 1):\n",
    "        base = N ^ (m - i) * f ^ i\n",
    "        for shifts in itertools.product(range(d), repeat=f.nvariables()):\n",
    "            g = base * prod(map(power, f.variables(), shifts))\n",
    "            G.append(g)\n",
    "    B, monomials = G.coefficient_matrix()\n",
    "    monomials = vector(monomials)\n",
    "    factors = [monomial(*bounds) for monomial in monomials]\n",
    "    for i, factor in enumerate(factors):\n",
    "        try:\n",
    "            inv_factor = R(factor)^-1\n",
    "            B.rescale_col(i, factor)\n",
    "        except:\n",
    "            # factor 对应的元素在 R 中没有逆元，跳过当前迭代\n",
    "            continue\n",
    "\n",
    "    B = B.dense_matrix().LLL()\n",
    "    B = B.change_ring(QQ)\n",
    "    for i, factor in enumerate(factors):\n",
    "        try:\n",
    "            inv_factor = R(factor)^-1\n",
    "            B.rescale_col(i, inv_factor)\n",
    "        except:\n",
    "            # factor 对应的元素在 R 中没有逆元，跳过当前迭代\n",
    "            continue\n",
    "\n",
    "    H = Sequence([], f.parent().change_ring(QQ))\n",
    "    \n",
    "    for h in filter(None, B * monomials):\n",
    "        H.append(h)\n",
    "        I = H.ideal()\n",
    "        if I.dimension() == -1:\n",
    "            H.pop()\n",
    "        elif I.dimension() == 0:\n",
    "            roots = []\n",
    "            for root in I.variety(ring=ZZ):\n",
    "                root = tuple(R(root[var]) for var in f.variables())\n",
    "                roots.append(root)\n",
    "            return roots\n",
    "\n",
    "    return []\n"
   ]
  },
  {
   "cell_type": "code",
   "execution_count": null,
   "metadata": {},
   "outputs": [],
   "source": [
    "N=0xf12eac2099c4190a6f586bea0b4fc3f9dff4f23f0cb8e42cbeff950aa1df8a373c49df7974fb33b4b6619eadb2d6c01f80da1b433295b199df11b323114c439884eb31fa568bd747ae37079e885e2490c3b5a56d61b9d10533983ff78fe85e07876fe2ae07ae7ea1c71f0f9c2d6beccdcd8baf046a58549aec19d45d48d7d92d;\n",
    "e=0xb8906f5097658f27cc448d98974d9e7ccd4e8a8f25a80007826c341dcb2ac42420f899e5a89045fbefd9163bc94e6f98b4953546203be4bec249031587a27dbf;\n",
    "c=0x162a6dee8bcbe24698b9249137c2a157890910fa74a56e7d2792b5b4f29112aba03448995ff32ed24bec5118f7433212196d3f99e1c794b61395d8183e4658c9dc05953a87c069c9390773c7f885907840ebd29676afac7bf3374d54c81c4e404f09716b9885d243c41dc48db561f8291b88826cae32bfd575a472e523f455c4;\n",
    "dl=0x4cbec287edc86c5b2a9e1975d64d2a24d3930075f0d445163c7b1ceec9ee0319fe1166af348b49004d2420b83bcb82d4879e93dba01ee76c5ca1b7141490465e824bdb5e91d04016c6bbbaa41c4470747ee8163f710b2d8adb8ab2168dcc996b5ab5f85a2269dc459379fb68848cec487;"
   ]
  },
  {
   "cell_type": "code",
   "execution_count": null,
   "metadata": {},
   "outputs": [],
   "source": [
    "l=900\n",
    "m=2**l\n",
    "F = IntegerModRing(m)"
   ]
  },
  {
   "cell_type": "code",
   "execution_count": null,
   "metadata": {},
   "outputs": [],
   "source": [
    "el=F(e)\n",
    "Nl=F(N)\n",
    "dl=F(dl)"
   ]
  },
  {
   "cell_type": "code",
   "execution_count": null,
   "metadata": {},
   "outputs": [],
   "source": [
    " R.<p> = PolynomialRing(F,implementation='NTL')\n",
    "for k in range(1,e//2):\n",
    "    s=Nl+1-(dl*el-1)/F(2*k-1)\n",
    "    f = p^2-s*p+Nl\n",
    "    root = f.roots(multiplicities=False)\n",
    "    print(root)\n",
    "    if root!=[]:\n",
    "        break"
   ]
  },
  {
   "cell_type": "code",
   "execution_count": null,
   "metadata": {},
   "outputs": [],
   "source": [
    " R.<s,k> = PolynomialRing(F)\n",
    "g = dl*e-k*(N-s+1) \n",
    "S = int(5*N^(.5))  # Use your own value\n",
    "K = el "
   ]
  },
  {
   "cell_type": "code",
   "execution_count": null,
   "metadata": {},
   "outputs": [],
   "source": [
    "g"
   ]
  },
  {
   "cell_type": "code",
   "execution_count": null,
   "metadata": {},
   "outputs": [],
   "source": [
    "dd = g.degree()\n",
    "beta = 1\n",
    "epsilon = beta / 7\n",
    "mm = ceil(beta**2 / (dd * epsilon))\n",
    "tt = floor(dd * mm * ((1/beta) - 1))\n",
    "XX = ceil(N**((beta**2/dd) - epsilon))\n",
    "roots = coppersmith_howgrave_univariate(f, m, beta, mm, tt, XX)"
   ]
  },
  {
   "cell_type": "code",
   "execution_count": null,
   "metadata": {},
   "outputs": [],
   "source": [
    "f.roots(multiplicities=False)"
   ]
  },
  {
   "cell_type": "code",
   "execution_count": null,
   "metadata": {},
   "outputs": [],
   "source": []
  },
  {
   "cell_type": "code",
   "execution_count": null,
   "metadata": {},
   "outputs": [],
   "source": []
  }
 ],
 "metadata": {
  "kernelspec": {
   "display_name": "SageMath 9.3",
   "language": "sage",
   "name": "sagemath"
  },
  "language_info": {
   "codemirror_mode": {
    "name": "ipython",
    "version": 3
   },
   "file_extension": ".py",
   "mimetype": "text/x-python",
   "name": "python",
   "nbconvert_exporter": "python",
   "pygments_lexer": "ipython3",
   "version": "3.7.10"
  }
 },
 "nbformat": 4,
 "nbformat_minor": 4
}
